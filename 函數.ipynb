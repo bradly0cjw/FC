{
 "cells": [
  {
   "cell_type": "markdown",
   "metadata": {},
   "source": [
    "<h3> 函數 </h3>\n",
    "\n",
    "<b> 流程的抽象機制 </b>\n",
    "\n",
    "語法:\n",
    "\n",
    "def 函數名稱([參數列]):\n",
    "    \n",
    "    [陳述]\n",
    "    [return 運算式]\n",
    "    \n",
    "叫用函數:\n",
    "\n",
    "函數名稱([引數列])\n"
   ]
  },
  {
   "cell_type": "code",
   "execution_count": 1,
   "metadata": {},
   "outputs": [
    {
     "name": "stdout",
     "output_type": "stream",
     "text": [
      "125\n"
     ]
    }
   ],
   "source": [
    "# function example\n",
    "def cube(x):     \n",
    "    return x*x*x # 傳回 x's 三次方\n",
    "x3=cube(5)\n",
    "print(x3)"
   ]
  },
  {
   "cell_type": "markdown",
   "metadata": {},
   "source": [
    "參數和引數的對應可以是位置或關鍵字的方式"
   ]
  },
  {
   "cell_type": "code",
   "execution_count": null,
   "metadata": {},
   "outputs": [],
   "source": [
    "#參數和引數以位置對應\n",
    "\n",
    "def product(a,b):\n",
    "    return a*b\n",
    "print(product(2,3)) # 2 <--> a, 3 <--> b\n"
   ]
  },
  {
   "cell_type": "code",
   "execution_count": 3,
   "metadata": {},
   "outputs": [
    {
     "name": "stdout",
     "output_type": "stream",
     "text": [
      "6\n"
     ]
    }
   ],
   "source": [
    "#參數和引數以關鍵字(keyword)對應\n",
    "\n",
    "def product(a,b):\n",
    "    return a*b\n",
    "print(product(b=3,a=2)) # 2 <--> a, 3 <--> b\n"
   ]
  },
  {
   "cell_type": "code",
   "execution_count": null,
   "metadata": {},
   "outputs": [],
   "source": [
    "#參數和引數以位置和關鍵字對應\n",
    "\n",
    "def product(a,b,c):\n",
    "    return a*b*c\n",
    "print(product(2,c=4,b=3)) # 2 <--> a, 3 <--> b <--> 4\n",
    "\n",
    "\n",
    "# 關鍵字對應後不能使用位置對應了\n",
    "# product(b=3,2,c=4) \n",
    "# SyntaxError: positional argument follows keyword argument \n"
   ]
  },
  {
   "cell_type": "code",
   "execution_count": 9,
   "metadata": {},
   "outputs": [
    {
     "name": "stdout",
     "output_type": "stream",
     "text": [
      "24\n",
      "32\n"
     ]
    }
   ],
   "source": [
    "#有內定值的參數不能放在沒有內定值得參數列之前\n",
    "def product(a,b=3,c=4):\n",
    "    return a*b*c\n",
    "print(product(2,c=4)) # 2 <--> a, 3 <--> b(default value) c<--> 4\n",
    "print(product(2,4)) # 2 <-->a b<-->4 c<-->4"
   ]
  },
  {
   "cell_type": "code",
   "execution_count": null,
   "metadata": {},
   "outputs": [],
   "source": [
    "# 不固定數目之位置參數 *args\n",
    "\n",
    "def product(*args):  # args is type tuple (iterable) 引數放入名為args 的 tuple\n",
    "    p=1\n",
    "    for item in args:\n",
    "        p=p*item\n",
    "    return p\n",
    "product(2,3,4,5)"
   ]
  },
  {
   "cell_type": "code",
   "execution_count": 22,
   "metadata": {},
   "outputs": [
    {
     "name": "stdout",
     "output_type": "stream",
     "text": [
      "b 2\n",
      "a 3\n",
      "d 4\n",
      "c 5\n"
     ]
    },
    {
     "data": {
      "text/plain": [
       "120"
      ]
     },
     "execution_count": 22,
     "metadata": {},
     "output_type": "execute_result"
    }
   ],
   "source": [
    "# 不固定數目之關鍵字參數 **kargs\n",
    "\n",
    "def product(**kargs):  # args is type dictionary (iterable) 引數放入名為 kargs的字典\n",
    "    p=1\n",
    "    \n",
    "    for item in kargs:\n",
    "        p=p*kargs[item]\n",
    "        print(item, kargs[item])\n",
    "    return p\n",
    "    \n",
    "product(b=2,a=3,d=4,c=5)"
   ]
  },
  {
   "cell_type": "code",
   "execution_count": 23,
   "metadata": {},
   "outputs": [],
   "source": [
    "#練習一 寫一個將一python整數的16個最小效位旋轉位移的函數 rotate\n",
    "# rotate(R,n,D)  R: integer, n: 旋轉位移的次數 0<= n <=15  D: 0向右 1 向左\n",
    "# 回傳旋轉過後的 R\n",
    "\n",
    "def rotate(R,n,D):\n",
    "# write your code here \n",
    "\n",
    "\n",
    "    return R"
   ]
  },
  {
   "cell_type": "code",
   "execution_count": 2,
   "metadata": {},
   "outputs": [
    {
     "name": "stdout",
     "output_type": "stream",
     "text": [
      "1011101110000000\n",
      "0001011101110000\n"
     ]
    }
   ],
   "source": [
    "#solution \n",
    "\n",
    "def rotate(R,n,D):\n",
    "    if D==0:\n",
    "        R=((R>>n)|((R<<(16-n)))) & 0xffff\n",
    "    else:\n",
    "        R=((R<<n)|(R>>(16-n))) & 0xffff\n",
    "    return R\n",
    "print('{0:016b}'.format(rotate(6000,3,1))) #check the function with R=6000\n",
    "print('{0:016b}'.format(6000))\n"
   ]
  },
  {
   "cell_type": "code",
   "execution_count": 30,
   "metadata": {},
   "outputs": [
    {
     "data": {
      "text/plain": [
       "24"
      ]
     },
     "execution_count": 30,
     "metadata": {},
     "output_type": "execute_result"
    }
   ],
   "source": [
    "#recusive function\n",
    "def factorial(n):\n",
    "    if n==0:\n",
    "        return 1\n",
    "    else:\n",
    "        return factorial(n-1)*n  # calling the function itself\n",
    "factorial(4)\n"
   ]
  },
  {
   "cell_type": "code",
   "execution_count": 1,
   "metadata": {},
   "outputs": [
    {
     "name": "stdout",
     "output_type": "stream",
     "text": [
      "move disk 1 from Peg S to Peg D\n",
      "move disk 2 from Peg S to Peg T\n",
      "move disk 1 from Peg D to Peg T\n",
      "move disk 3 from Peg S to Peg D\n",
      "move disk 1 from Peg T to Peg S\n",
      "move disk 2 from Peg T to Peg D\n",
      "move disk 1 from Peg S to Peg D\n"
     ]
    }
   ],
   "source": [
    "#tower of Hanoi\n",
    "def ToH(n,s,d,t):\n",
    "    if n==1:\n",
    "        print(f\"move disk {n} from {s} to {d}\")\n",
    "    else:\n",
    "        ToH(n-1,s,t,d)\n",
    "        print(f\"move disk {n} from {s} to {d}\")\n",
    "        ToH(n-1,t,d,s)\n",
    "ToH(3,\"Peg S\",\"Peg D\",\"Peg T\")"
   ]
  },
  {
   "cell_type": "code",
   "execution_count": null,
   "metadata": {},
   "outputs": [],
   "source": []
  }
 ],
 "metadata": {
  "kernelspec": {
   "display_name": "base",
   "language": "python",
   "name": "python3"
  },
  "language_info": {
   "codemirror_mode": {
    "name": "ipython",
    "version": 3
   },
   "file_extension": ".py",
   "mimetype": "text/x-python",
   "name": "python",
   "nbconvert_exporter": "python",
   "pygments_lexer": "ipython3",
   "version": "3.9.12 (main, Apr  4 2022, 05:22:27) [MSC v.1916 64 bit (AMD64)]"
  },
  "vscode": {
   "interpreter": {
    "hash": "144584c756add8a4306ed55d0d5edb61a4f8f1de2b284f8800f5c48c29e668fe"
   }
  }
 },
 "nbformat": 4,
 "nbformat_minor": 2
}
